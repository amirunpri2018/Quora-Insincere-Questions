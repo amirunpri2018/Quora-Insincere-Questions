{
 "cells": [
  {
   "cell_type": "markdown",
   "metadata": {},
   "source": [
    "### Quora Insincere Questions: Exploratory Data Analysis"
   ]
  },
  {
   "cell_type": "code",
   "execution_count": 1,
   "metadata": {},
   "outputs": [],
   "source": [
    "import pandas as pd\n",
    "import numpy as np\n",
    "import matplotlib.pyplot as plt\n",
    "from scipy import stats\n",
    "from gensim.corpora.dictionary import Dictionary\n",
    "from gensim.parsing.preprocessing import remove_stopwords\n",
    "from gensim.models.tfidfmodel import TfidfModel\n",
    "from collections import defaultdict\n",
    "from sklearn.feature_extraction.text import CountVectorizer\n",
    "from pylab import rcParams\n",
    "import os\n",
    "os.chdir('/home/roman/Documents/Projects/Quora/data')"
   ]
  },
  {
   "cell_type": "code",
   "execution_count": 2,
   "metadata": {},
   "outputs": [],
   "source": [
    "train_data = pd.read_csv('train.csv')\n",
    "test_data = pd.read_csv('test.csv')"
   ]
  },
  {
   "cell_type": "code",
   "execution_count": 3,
   "metadata": {},
   "outputs": [
    {
     "name": "stdout",
     "output_type": "stream",
     "text": [
      "Let's have a look at the data set: \n",
      "\n",
      "                    qid                                      question_text  \\\n",
      "0  00002165364db923c7e6  How did Quebec nationalists see their province...   \n",
      "1  000032939017120e6e44  Do you have an adopted dog, how would you enco...   \n",
      "2  0000412ca6e4628ce2cf  Why does velocity affect time? Does velocity a...   \n",
      "3  000042bf85aa498cd78e  How did Otto von Guericke used the Magdeburg h...   \n",
      "4  0000455dfa3e01eae3af  Can I convert montra helicon D to a mountain b...   \n",
      "\n",
      "   target  \n",
      "0       0  \n",
      "1       0  \n",
      "2       0  \n",
      "3       0  \n",
      "4       0  \n",
      "\n",
      "\n",
      "Example of 10 regular questions: \n",
      "\n",
      "How did Quebec nationalists see their province as a nation in the 1960s?\n",
      "Do you have an adopted dog, how would you encourage people to adopt and not shop?\n",
      "Why does velocity affect time? Does velocity affect space geometry?\n",
      "How did Otto von Guericke used the Magdeburg hemispheres?\n",
      "Can I convert montra helicon D to a mountain bike by just changing the tyres?\n",
      "Is Gaza slowly becoming Auschwitz, Dachau or Treblinka for Palestinians?\n",
      "Why does Quora automatically ban conservative opinions when reported, but does not do the same for liberal views?\n",
      "Is it crazy if I wash or wipe my groceries off? Germs are everywhere.\n",
      "Is there such a thing as dressing moderately, and if so, how is that different than dressing modestly?\n",
      "Is it just me or have you ever been in this phase wherein you became ignorant to the people you once loved, completely disregarding their feelings/lives so you get to have something go your way and feel temporarily at ease. How did things change?\n",
      "\n",
      " Example of 10 insincere questions: \n",
      "\n",
      "Has the United States become the largest dictatorship in the world?\n",
      "Which babies are more sweeter to their parents? Dark skin babies or light skin babies?\n",
      "If blacks support school choice and mandatory sentencing for criminals why don't they vote Republican?\n",
      "I am gay boy and I love my cousin (boy). He is sexy, but I dont know what to do. He is hot, and I want to see his di**. What should I do?\n",
      "Which races have the smallest penis?\n",
      "Why do females find penises ugly?\n",
      "How do I marry an American woman for a Green Card? How much do they charge?\n",
      "Why do Europeans say they're the superior race, when in fact it took them over 2,000 years until mid 19th century to surpass China's largest economy?\n",
      "Did Julius Caesar bring a tyrannosaurus rex on his campaigns to frighten the Celts into submission?\n",
      "In what manner has Republican backing of 'states rights' been hypocritical and what ways have they actually restricted the ability of states to make their own laws?\n"
     ]
    }
   ],
   "source": [
    "# --------------- Explore data set --------------- #\n",
    "print(\"Let's have a look at the data set: \\n\")\n",
    "print(train_data.head())\n",
    "print('\\n')\n",
    "print('Example of 10 regular questions: \\n')\n",
    "regular = train_data[train_data['target']==0][['question_text']]\n",
    "for i in range(10):\n",
    "    print(regular.iloc[i, 0])\n",
    "insincere = train_data[train_data['target']==1][['question_text']]\n",
    "print('\\n Example of 10 insincere questions: \\n')\n",
    "for i in range(10):\n",
    "    print(insincere.iloc[i, 0])"
   ]
  },
  {
   "cell_type": "code",
   "execution_count": 4,
   "metadata": {},
   "outputs": [
    {
     "name": "stdout",
     "output_type": "stream",
     "text": [
      "Number of training samples: 1306122\n",
      "Number of test samples: 56370\n",
      "Number of regular questions: 1225312\n",
      "Number of insincere questions: 80810\n",
      "Percentage of insincere questions: 6.19%\n",
      "\n",
      "\n",
      "Average number of characters per question: 70.68\n",
      "Min number of characters per question: 1\n",
      "Max number of characters per question: 1017\n",
      "Average number of words per question: 12.8\n",
      "Min number of words per question: 1\n",
      "Max number of words per question: 122\n",
      "Average number of characters per word: 5.57\n"
     ]
    },
    {
     "data": {
      "image/png": "[encoded data removed]",
      "text/plain": [
       "<Figure size 864x288 with 2 Axes>"
      ]
     },
     "metadata": {
      "needs_background": "light"
     },
     "output_type": "display_data"
    }
   ],
   "source": [
    "# --------------- Data set stats --------------- #\n",
    "n_train = train_data.shape[0]\n",
    "n_test = test_data.shape[0]\n",
    "perc_insincere_train = round(100 * insincere.shape[0] / train_data.shape[0], 2)\n",
    "print('Number of training samples: ' + str(n_train))\n",
    "print('Number of test samples: ' + str(n_test))\n",
    "print('Number of regular questions: ' + str(regular.shape[0]))\n",
    "print('Number of insincere questions: ' + str(insincere.shape[0]))\n",
    "print('Percentage of insincere questions: ' + str(perc_insincere_train) + '%')\n",
    "print('\\n')\n",
    "n_chars = train_data['question_text'].apply(len)\n",
    "n_words = train_data['question_text'].str.split(' ').apply(len)\n",
    "n_chars_per_words = n_chars / n_words\n",
    "print('Average number of characters per question: ' + str(round(n_chars.mean(), 2)))\n",
    "print('Min number of characters per question: ' + str(n_chars.min()))\n",
    "print('Max number of characters per question: ' + str(n_chars.max()))\n",
    "print('Average number of words per question: ' + str(round(n_words.mean(), 2)))\n",
    "print('Min number of words per question: ' + str(n_words.min()))\n",
    "print('Max number of words per question: ' + str(n_words.max()))\n",
    "print('Average number of characters per word: ' + str(round(n_chars_per_words.mean(), 2)))\n",
    "\n",
    "rcParams['figure.figsize'] = 12, 4\n",
    "plt.subplot(1, 2, 1)\n",
    "plt.hist(n_words, bins=60, alpha=0.8)\n",
    "plt.grid()\n",
    "plt.xlabel('number of words')\n",
    "plt.title('Number of words distribution')\n",
    "plt.subplot(1, 2, 2)\n",
    "plt.hist(n_chars, bins=60, alpha=0.8)\n",
    "plt.grid()\n",
    "plt.xlabel('number of characters')\n",
    "plt.title('Number of characters distribution')\n",
    "plt.show()"
   ]
  },
  {
   "cell_type": "markdown",
   "metadata": {},
   "source": [
    "The training dataset includes 1.3 million questions (the test set includes 56,370 questions). The training set has 1,225,312 sincere (\"regular\") and 80,810 insincere questions. This is equal to 6.19% of insincere questions --> we are dealing with a relaively high imbalanced dataset."
   ]
  },
  {
   "cell_type": "code",
   "execution_count": 5,
   "metadata": {},
   "outputs": [
    {
     "name": "stdout",
     "output_type": "stream",
     "text": [
      "Regular questions:\n",
      "Average number of words per question: 12.51\n",
      "Min number of words per question: 2\n",
      "Max number of words per question: 122\n",
      "Average number of characters per word: 5.56\n",
      "\n",
      "\n",
      "Insincere questions:\n",
      "Average number of words per question: 17.28\n",
      "Min number of words per question: 1\n",
      "Max number of words per question: 64\n",
      "Average number of characters per word: 5.69\n"
     ]
    },
    {
     "data": {
      "image/png": "[encoded data removed]",
      "text/plain": [
       "<Figure size 864x288 with 1 Axes>"
      ]
     },
     "metadata": {
      "needs_background": "light"
     },
     "output_type": "display_data"
    },
    {
     "name": "stdout",
     "output_type": "stream",
     "text": [
      "Ks_2sampResult(statistic=0.25726484569731056, pvalue=0.0)\n"
     ]
    }
   ],
   "source": [
    "# --------------- Compare stats for regular vs insincere --------------- #\n",
    "n_chars_reg = regular['question_text'].apply(len)\n",
    "n_words_reg = regular['question_text'].str.split(' ').apply(len)\n",
    "n_chars_per_words_reg = n_chars_reg / n_words_reg\n",
    "n_chars_ins = insincere['question_text'].apply(len)\n",
    "n_words_ins = insincere['question_text'].str.split(' ').apply(len)\n",
    "n_chars_per_words_ins = n_chars_ins / n_words_ins\n",
    "\n",
    "print('Regular questions:')\n",
    "print('Average number of words per question: ' + str(round(n_words_reg.mean(), 2)))\n",
    "print('Min number of words per question: ' + str(n_words_reg.min()))\n",
    "print('Max number of words per question: ' + str(n_words_reg.max()))\n",
    "print('Average number of characters per word: ' + str(round(n_chars_per_words_reg.mean(), 2)))\n",
    "print('\\n')\n",
    "print('Insincere questions:')\n",
    "print('Average number of words per question: ' + str(round(n_words_ins.mean(), 2)))\n",
    "print('Min number of words per question: ' + str(n_words_ins.min()))\n",
    "print('Max number of words per question: ' + str(n_words_ins.max()))\n",
    "print('Average number of characters per word: ' + str(round(n_chars_per_words_ins.mean(), 2)))\n",
    "\n",
    "bins = np.arange(60)\n",
    "plt.hist(n_words_reg, bins=bins, alpha=0.5, density=True, color='green')\n",
    "plt.hist(n_words_ins, bins=bins, alpha=0.5, density=True, color='red')\n",
    "plt.grid()\n",
    "plt.xlabel('number of words')\n",
    "plt.title('Number of words distribution')\n",
    "plt.legend(['regular', 'insincere'])\n",
    "plt.show()\n",
    "\n",
    "print(stats.ks_2samp(n_words_reg, n_words_ins))"
   ]
  },
  {
   "cell_type": "markdown",
   "metadata": {},
   "source": [
    "The stats above show that insincere questions tend to be longer than regular ones. The Kolmogorov-Smirnov statistic (ks2) confirms the assumption and rejects the null hypothesis that regular and insincere questions are coming from the same distribution (p-value: 0.0)"
   ]
  },
  {
   "cell_type": "code",
   "execution_count": 6,
   "metadata": {},
   "outputs": [
    {
     "name": "stdout",
     "output_type": "stream",
     "text": [
      "The 30 most frequent words from all samples (w/o stopwords) are:\n",
      "what: 0.3202\n",
      "i: 0.2347\n",
      "how: 0.2016\n",
      "why: 0.1147\n",
      "is: 0.0845\n",
      "best: 0.0475\n",
      "people: 0.0414\n",
      "can: 0.0405\n",
      "do: 0.0374\n",
      "like: 0.0366\n",
      "which: 0.0363\n",
      "good: 0.0288\n",
      "if: 0.0265\n",
      "india: 0.023\n",
      "are: 0.0228\n",
      "think: 0.0198\n",
      "does: 0.018\n",
      "who: 0.0169\n",
      "time: 0.0166\n",
      "use: 0.0165\n",
      "life: 0.0157\n",
      "way: 0.0155\n",
      "know: 0.0151\n",
      "where: 0.0148\n",
      "want: 0.0143\n",
      "it: 0.0141\n",
      "work: 0.0138\n",
      "should: 0.0127\n",
      "feel: 0.0123\n",
      "don't: 0.0122\n",
      "\n",
      "\n",
      "The 30 most frequent words from all regular questions are:\n",
      "what: 0.3363\n",
      "i: 0.241\n",
      "how: 0.2087\n",
      "why: 0.0952\n",
      "is: 0.0831\n",
      "best: 0.0501\n",
      "can: 0.0418\n",
      "which: 0.0382\n",
      "do: 0.0349\n",
      "like: 0.0343\n",
      "people: 0.034\n",
      "good: 0.0296\n",
      "if: 0.0253\n",
      "india: 0.0222\n",
      "are: 0.0205\n",
      "think: 0.0179\n",
      "does: 0.0178\n",
      "who: 0.0173\n",
      "time: 0.0168\n",
      "use: 0.0168\n",
      "life: 0.0161\n",
      "way: 0.0158\n",
      "where: 0.0154\n",
      "know: 0.0148\n",
      "work: 0.0142\n",
      "it: 0.0138\n",
      "want: 0.0133\n",
      "should: 0.0122\n",
      "person: 0.0119\n",
      "feel: 0.0118\n",
      "\n",
      "\n",
      "The 30 most frequent words from all insincere questions are:\n",
      "why: 0.4097\n",
      "people: 0.1522\n",
      "i: 0.1392\n",
      "is: 0.1061\n",
      "how: 0.0933\n",
      "what: 0.0759\n",
      "do: 0.0755\n",
      "like: 0.0721\n",
      "women: 0.0682\n",
      "trump: 0.0677\n",
      "are: 0.0586\n",
      "men: 0.0478\n",
      "think: 0.0476\n",
      "if: 0.0458\n",
      "white: 0.0433\n",
      "muslims: 0.0409\n",
      "don't: 0.0404\n",
      "quora: 0.0391\n",
      "indian: 0.0378\n",
      "india: 0.0359\n",
      "black: 0.0345\n",
      "americans: 0.0341\n",
      "sex: 0.03\n",
      "indians: 0.0298\n",
      "girls: 0.0298\n",
      "want: 0.0296\n",
      "hate: 0.0273\n",
      "world: 0.0268\n",
      "us: 0.0255\n",
      "liberals: 0.0249\n"
     ]
    }
   ],
   "source": [
    "# --------------- Text analysis - word frequency --------------- #\n",
    "docs_df = train_data['question_text']\n",
    "regular_df = regular['question_text']\n",
    "insincere_df = insincere['question_text']\n",
    "\n",
    "# remove stopwords words and tokenize:\n",
    "regular_df = regular_df.apply(remove_stopwords)\n",
    "insincere_df = insincere_df.apply(remove_stopwords)\n",
    "regular_list = regular_df.tolist()\n",
    "insincere_list = insincere_df.tolist()\n",
    "texts_reg = [[word for word in document.lower().replace(\"?\", \"\").split()] for document in regular_list]\n",
    "texts_ins = [[word for word in document.lower().replace(\"?\", \"\").split()] for document in insincere_list]\n",
    "texts = texts_reg + texts_ins\n",
    "# create dict with frequency for all reaminaing words:\n",
    "frequency_reg, frequency_ins = defaultdict(int), defaultdict(int)\n",
    "for text in texts_reg:\n",
    "    for token in text:\n",
    "        frequency_reg[token] += 1\n",
    "for text in texts_ins:\n",
    "    for token in text:\n",
    "        frequency_ins[token] += 1\n",
    "frequency_all = {k: frequency_reg.get(k, 0) + frequency_ins.get(k, 0) for k in \\\n",
    "                 set(frequency_reg) | set(frequency_ins) }\n",
    "most_frequent_all = sorted(frequency_all.items(), key=lambda k_v: k_v[1], reverse=True)\n",
    "most_frequent_reg = sorted(frequency_reg.items(), key=lambda k_v: k_v[1], reverse=True)\n",
    "most_frequent_ins = sorted(frequency_ins.items(), key=lambda k_v: k_v[1], reverse=True)\n",
    "print('The 30 most frequent words from all samples (w/o stopwords) are:')\n",
    "for tuple_ in most_frequent_all[:30]:\n",
    "    print(str(tuple_[0]) + ': ' + str(np.round(tuple_[1] / docs_df.shape[0], 4)))\n",
    "print('\\n')\n",
    "print('The 30 most frequent words from all regular questions are:')\n",
    "for tuple_ in most_frequent_reg[:30]:\n",
    "    print(str(tuple_[0]) + ': ' + str(np.round(tuple_[1] / regular_df.shape[0], 4)))\n",
    "print('\\n')\n",
    "print('The 30 most frequent words from all insincere questions are:')\n",
    "for tuple_ in most_frequent_ins[:30]:\n",
    "    print(str(tuple_[0]) + ': ' + str(np.round(tuple_[1] / insincere_df.shape[0], 4)))"
   ]
  },
  {
   "cell_type": "markdown",
   "metadata": {},
   "source": [
    "There are many words such as 'why', 'what', 'is', 'how', etc. among the 30 most frequent words in both, the regular and the insincere questions. This makes it difficult to compare the most common words for regular vs insincere questions. An interesting detail to notice is that most regular questions appear to start with 'what', while many of the insincere questions appear to start with 'why'. One reason for that could be that insincere questions often make a statement rather than ask an actual question. A question that starts with 'why' might contain a specific statement, such as 'why is ...[statement]...\n",
    "\n",
    "To better see the difference in most frequent words between regular and incincere questions, we manually filter out the most frequent words that have no meaning: "
   ]
  },
  {
   "cell_type": "code",
   "execution_count": 7,
   "metadata": {},
   "outputs": [
    {
     "name": "stdout",
     "output_type": "stream",
     "text": [
      "The 30 most frequent words from all regular questions after reduction are:\n",
      "best: 0.0501\n",
      "people: 0.034\n",
      "good: 0.0296\n",
      "india: 0.0222\n",
      "time: 0.0168\n",
      "life: 0.0161\n",
      "work: 0.0142\n",
      "person: 0.0119\n",
      "feel: 0.0118\n",
      "better: 0.0112\n",
      "will: 0.0112\n",
      "possible: 0.0111\n",
      "new: 0.011\n",
      "world: 0.0109\n",
      "year: 0.0108\n",
      "job: 0.0108\n",
      "mean: 0.0103\n",
      "need: 0.0101\n",
      "start: 0.01\n",
      "difference: 0.01\n",
      "years: 0.0095\n",
      "different: 0.0094\n",
      "quora: 0.0094\n",
      "money: 0.009\n",
      "learn: 0.009\n",
      "us: 0.0086\n",
      "business: 0.0086\n",
      "long: 0.0085\n",
      "indian: 0.0083\n",
      "school: 0.0082\n",
      "\n",
      "\n",
      "The 30 most frequent words from all insincere questions after reduction are:\n",
      "people: 0.1522\n",
      "women: 0.0682\n",
      "trump: 0.0677\n",
      "men: 0.0478\n",
      "white: 0.0433\n",
      "muslims: 0.0409\n",
      "quora: 0.0391\n",
      "indian: 0.0378\n",
      "india: 0.0359\n",
      "black: 0.0345\n",
      "americans: 0.0341\n",
      "sex: 0.03\n",
      "indians: 0.0298\n",
      "girls: 0.0298\n",
      "hate: 0.0273\n",
      "world: 0.0268\n",
      "us: 0.0255\n",
      "liberals: 0.0249\n",
      "chinese: 0.0243\n",
      "muslim: 0.022\n",
      "american: 0.0208\n",
      "country: 0.0207\n",
      "feel: 0.0198\n",
      "believe: 0.0187\n",
      "donald: 0.0186\n",
      "president: 0.0179\n",
      "true: 0.0178\n",
      "america: 0.0174\n",
      "good: 0.017\n",
      "gay: 0.0165\n"
     ]
    }
   ],
   "source": [
    "# --------------- Word frequency - remove additional stopwords--------------- #\n",
    "freq_word_list = ['what', 'i', 'how', 'why', 'is', 'can', 'do', 'like','which', \\\n",
    "                  'if', 'are', 'think', 'does', 'who', 'use', 'way', 'know', 'where',\\\n",
    "                  'want', 'it', 'should', 'when', \"what's\", \"don't\", \"i'm\", 'in']\n",
    "most_frequent_reg_reduced, most_frequent_ins_reduced = [], []\n",
    "for k, v in most_frequent_reg:\n",
    "    if k not in freq_word_list:\n",
    "        most_frequent_reg_reduced.append((k, v))\n",
    "for k, v in most_frequent_ins:\n",
    "    if k not in freq_word_list:\n",
    "        most_frequent_ins_reduced.append((k, v))\n",
    "print('The 30 most frequent words from all regular questions after reduction are:')\n",
    "reg_words, reg_word_freq = [], []\n",
    "for tuple_ in most_frequent_reg_reduced[:30]:\n",
    "    reg_words.append(tuple_[0])\n",
    "    reg_word_freq.append(tuple_[1] / regular_df.shape[0])\n",
    "    print(str(tuple_[0]) + ': ' + str(np.round(tuple_[1] / regular_df.shape[0], 4)))\n",
    "print('\\n')\n",
    "ins_words, ins_word_freq = [], []\n",
    "print('The 30 most frequent words from all insincere questions after reduction are:')\n",
    "for tuple_ in most_frequent_ins_reduced[:30]:\n",
    "    ins_words.append(tuple_[0])\n",
    "    ins_word_freq.append(tuple_[1] / insincere_df.shape[0])\n",
    "    print(str(tuple_[0]) + ': ' + str(np.round(tuple_[1] / insincere_df.shape[0], 4)))\n",
    "# find frequency of most frequent insincere-question-words in regular questions:\n",
    "ins_word_freq_reg = []\n",
    "for word in ins_words:\n",
    "    ins_word_freq_reg.append(frequency_reg[word] / regular_df.shape[0])\n",
    "# find frequency of most frequent regular-question-words in insincere questions:\n",
    "reg_word_freq_ins = []\n",
    "for word in reg_words:\n",
    "    reg_word_freq_ins.append(frequency_ins[word] / insincere_df.shape[0])"
   ]
  },
  {
   "cell_type": "markdown",
   "metadata": {},
   "source": [
    "When comparing the regular to the insincere questions, we recognize some frequent words that appear to be common for insincere questions such as: 'trump', 'white', 'muslims', 'hate', 'sex', 'girls', 'liberals'. It appears that many of the insincere questions target controversial topics such as politics, race and sex. The most frequent words in regular questions are more generic and often appear to be typical for educational purposes (examples: 'possible', 'difference', 'year', 'learn')."
   ]
  },
  {
   "cell_type": "code",
   "execution_count": 8,
   "metadata": {},
   "outputs": [
    {
     "data": {
      "image/png": "[encoded data removed]",
      "text/plain": [
       "<Figure size 864x864 with 1 Axes>"
      ]
     },
     "metadata": {
      "needs_background": "light"
     },
     "output_type": "display_data"
    },
    {
     "data": {
      "image/png": "[encoded data removed]",
      "text/plain": [
       "<Figure size 864x864 with 1 Axes>"
      ]
     },
     "metadata": {
      "needs_background": "light"
     },
     "output_type": "display_data"
    }
   ],
   "source": [
    "# --------------- Word frequency plots --------------- #\n",
    "rcParams['figure.figsize'] = 12, 12\n",
    "df_reg = pd.concat([pd.Series(reg_word_freq), pd.Series(reg_word_freq_ins)], axis=1)\n",
    "df_reg.index = reg_words\n",
    "df_reg = df_reg.iloc[::-1]\n",
    "df_reg.columns = ['regular', 'insincere']\n",
    "df_reg.plot(kind='barh', stacked=False, width=0.75, color=['green', 'red'])\n",
    "plt.grid()\n",
    "plt.title('Most frequent words in regular questions')\n",
    "plt.xlabel('Frequency')\n",
    "plt.show()\n",
    "\n",
    "df_ins = pd.concat([pd.Series(ins_word_freq), pd.Series(ins_word_freq_reg)], axis=1)\n",
    "df_ins.index = ins_words\n",
    "df_ins = df_ins.iloc[::-1]\n",
    "df_ins.columns = ['insincere', 'regular']\n",
    "df_ins.plot(kind='barh', stacked=False, width=0.75, color=['red', 'green'])\n",
    "plt.grid()\n",
    "plt.title('Most frequent words in insincere questions')\n",
    "plt.xlabel('Frequency')\n",
    "plt.show()"
   ]
  },
  {
   "cell_type": "markdown",
   "metadata": {},
   "source": [
    "The first plot compares the frequency of the most frequent words in regular questions to those in insincere questions. The second plot does the same for the most frequent words in insincere questions. A comparison of these plots shows that while the most frequent words in regular questions might also appear frequently in insincere questions, the most frequent words in insincere questions tend to appear much less frequent in regular questions.\n",
    "\n",
    "'Trump', for example appears in more than 6% of all insincere questions, but appears only in around 0.5% of all regular questions. Words such as 'muslims', 'americans', 'indians', 'liberals' and 'gay' are especially strong indicators for insincere questions."
   ]
  }
 ],
 "metadata": {
  "kernelspec": {
   "display_name": "Python 3",
   "language": "python",
   "name": "python3"
  },
  "language_info": {
   "codemirror_mode": {
    "name": "ipython",
    "version": 3
   },
   "file_extension": ".py",
   "mimetype": "text/x-python",
   "name": "python",
   "nbconvert_exporter": "python",
   "pygments_lexer": "ipython3",
   "version": "3.6.6"
  }
 },
 "nbformat": 4,
 "nbformat_minor": 2
}
